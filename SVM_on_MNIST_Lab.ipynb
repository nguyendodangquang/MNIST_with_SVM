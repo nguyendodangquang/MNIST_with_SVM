{
  "nbformat": 4,
  "nbformat_minor": 2,
  "metadata": {
    "colab": {
      "name": "6.2c_SVM_on_MNIST_Lab.ipynb",
      "provenance": [],
      "collapsed_sections": [
        "Y8O1Hh7LYNjP"
      ],
      "toc_visible": true
    },
    "kernelspec": {
      "display_name": "Python 3",
      "language": "python",
      "name": "python3"
    },
    "language_info": {
      "codemirror_mode": {
        "name": "ipython",
        "version": 3
      },
      "file_extension": ".py",
      "mimetype": "text/x-python",
      "name": "python",
      "nbconvert_exporter": "python",
      "pygments_lexer": "ipython3",
      "version": "3.7.4"
    }
  },
  "cells": [
    {
      "cell_type": "markdown",
      "source": [
        "# Handwritten Digits Classification"
      ],
      "metadata": {
        "id": "Ps5x-gYUCf9_"
      }
    },
    {
      "cell_type": "markdown",
      "source": [
        "## Overview\n",
        "\n",
        "The MNIST database (Modified National Institute of Standards and Technology database) is a large database of handwritten digits that is commonly used for training various image processing systems. MNIST is like the \"Hello World\" of machine learning with which you can try out a few machine learning algorithms.\n",
        "\n",
        "![](https://upload.wikimedia.org/wikipedia/commons/2/27/MnistExamples.png)\n",
        "\n",
        "Each image is 28 pixels in height and 28 pixels in width, for a total of 784 pixels in total. Each pixel has a single pixel-value associated with it, indicating the lightness or darkness of that pixel, with higher numbers meaning lighter. This pixel-value is an integer between 0 and 255, inclusive.\n",
        "\n",
        "Visually, if we omit the \"pixel\" prefix, the pixels make up the image like this:\n",
        "```\n",
        "000 001 002 003 ... 026 027\n",
        "028 029 030 031 ... 054 055\n",
        "056 057 058 059 ... 082 083\n",
        " |   |   |   |  ...  |   |\n",
        "728 729 730 731 ... 754 755\n",
        "756 757 758 759 ... 782 783 \n",
        "```"
      ],
      "metadata": {
        "id": "0glR10XBCxNy"
      }
    },
    {
      "cell_type": "markdown",
      "source": [
        "## Get Data"
      ],
      "metadata": {
        "id": "-3hGXfqVDRna"
      }
    },
    {
      "cell_type": "code",
      "execution_count": null,
      "source": [
        "import numpy as np\r\n",
        "import pandas as pd\r\n",
        "import seaborn as sns\r\n",
        "import matplotlib.pyplot as plt\r\n",
        "%matplotlib inline\r\n",
        "\r\n",
        "import warnings\r\n",
        "warnings.filterwarnings('ignore')\r\n",
        "\r\n",
        "sns.set_style(\"whitegrid\")"
      ],
      "outputs": [],
      "metadata": {
        "id": "4IWx_-bBEYAT"
      }
    },
    {
      "cell_type": "code",
      "execution_count": null,
      "source": [
        "from tensorflow.keras.datasets import mnist\r\n",
        "\r\n",
        "(X_train, y_train), (X_test, y_test) = mnist.load_data()\r\n",
        "\r\n",
        "print('Training data:', X_train.shape, y_train.shape) # training set\r\n",
        "print('Test data:', X_test.shape, y_test.shape) # validation set"
      ],
      "outputs": [
        {
          "output_type": "stream",
          "name": "stdout",
          "text": [
            "Downloading data from https://storage.googleapis.com/tensorflow/tf-keras-datasets/mnist.npz\n",
            "11493376/11490434 [==============================] - 0s 0us/step\n",
            "Training data: (60000, 28, 28) (60000,)\n",
            "Test data: (10000, 28, 28) (10000,)\n"
          ]
        }
      ],
      "metadata": {
        "id": "BNhUbXb9CSbh",
        "colab": {
          "base_uri": "https://localhost:8080/"
        },
        "outputId": "510a31a4-35eb-439d-c139-71dd20edccde"
      }
    },
    {
      "cell_type": "markdown",
      "source": [
        "## EDA"
      ],
      "metadata": {
        "id": "VYTtM9VlGs31"
      }
    },
    {
      "cell_type": "code",
      "execution_count": null,
      "source": [
        "def plot_images(images, labels):\r\n",
        "    '''Plot images with their labels. Ten each row'''\r\n",
        "    plt.figure(figsize=(20, 10))\r\n",
        "    columns = 10\r\n",
        "    for i, image in enumerate(images):\r\n",
        "        ax = plt.subplot(len(images) / columns + 1, columns, i + 1)\r\n",
        "        ax.set_title(f\"{labels[i]}\", fontsize=16)\r\n",
        "        plt.axis('off')\r\n",
        "        plt.subplots_adjust(bottom=0.1)\r\n",
        "        plt.imshow(image, cmap='gray')\r\n",
        "\r\n",
        "def get_samples(n_samples, X, y):\r\n",
        "    '''Get n_samples images randomly'''\r\n",
        "    samples = np.random.choice(np.arange(len(y)), n_samples, replace=False)\r\n",
        "    return X[samples], y[samples]\r\n",
        "\r\n",
        "def get_digit(digit, n_samples, X, y):\r\n",
        "    '''Get n_samples images of the class digit randomly'''\r\n",
        "    y_digit = y[y == digit]\r\n",
        "    samples = np.random.choice(np.arange(len(y_digit)), n_samples, replace=False)\r\n",
        "    return X[y == digit][samples], y_digit[samples]"
      ],
      "outputs": [],
      "metadata": {
        "id": "xcZURSKuDcvm"
      }
    },
    {
      "cell_type": "code",
      "execution_count": null,
      "source": [
        "n_samples = 30\r\n",
        "# images, labels = get_samples(n_samples, X_train, y_train)\r\n",
        "images, labels = get_digit(1, n_samples, X_train, y_train)\r\n",
        "plot_images(images, labels)"
      ],
      "outputs": [
        {
          "output_type": "display_data",
          "data": {
            "text/plain": [
              "<Figure size 1440x720 with 30 Axes>"
            ],
            "image/png": "[encoded data removed]"
          },
          "metadata": {
            "tags": [],
            "needs_background": "light"
          }
        }
      ],
      "metadata": {
        "id": "OpMe7EMCEF01",
        "colab": {
          "base_uri": "https://localhost:8080/",
          "height": 436
        },
        "outputId": "1172a8f4-5ec6-4d37-fc81-07241adb4daa"
      }
    },
    {
      "cell_type": "markdown",
      "source": [
        "**Plot the barplot of number of images of each class (0 to 9)**"
      ],
      "metadata": {
        "id": "7Ld_PUJxrzN1"
      }
    },
    {
      "cell_type": "code",
      "execution_count": null,
      "source": [
        "sns.countplot(y_test)"
      ],
      "outputs": [
        {
          "output_type": "execute_result",
          "data": {
            "text/plain": [
              "<matplotlib.axes._subplots.AxesSubplot at 0x7f01f6fca790>"
            ]
          },
          "metadata": {
            "tags": []
          },
          "execution_count": 6
        },
        {
          "output_type": "display_data",
          "data": {
            "text/plain": [
              "<Figure size 432x288 with 1 Axes>"
            ],
            "image/png": "[encoded data removed]"
          },
          "metadata": {
            "tags": [],
            "needs_background": "light"
          }
        }
      ],
      "metadata": {
        "id": "xjVYEat8EJTd",
        "colab": {
          "base_uri": "https://localhost:8080/",
          "height": 282
        },
        "outputId": "76b84e0b-dd91-4e6c-a052-c8e836852adc"
      }
    },
    {
      "cell_type": "markdown",
      "source": [
        "**Print out the range of pixel values (min, max)**"
      ],
      "metadata": {
        "id": "7M_TfQZUrzOG"
      }
    },
    {
      "cell_type": "code",
      "execution_count": null,
      "source": [
        "print('Pixel value range: ')"
      ],
      "outputs": [
        {
          "output_type": "stream",
          "name": "stdout",
          "text": [
            "Pixel value range: 0 255\n"
          ]
        }
      ],
      "metadata": {
        "id": "d0rZBlU8FmtE",
        "colab": {
          "base_uri": "https://localhost:8080/"
        },
        "outputId": "13f45fb2-d3d9-421c-e76c-d7c73e77eea7"
      }
    },
    {
      "cell_type": "markdown",
      "source": [
        "## Transform data for training"
      ],
      "metadata": {
        "id": "XC2sFqfcJjQ1"
      }
    },
    {
      "cell_type": "markdown",
      "source": [
        "**Get the first `n_samples` images randomly from training set and test set. Then reshape them into long vectors**"
      ],
      "metadata": {
        "id": "6W5AWXE2rzOj"
      }
    },
    {
      "cell_type": "code",
      "execution_count": null,
      "source": [
        "n_samples = 2000\r\n",
        "n_test_samples = 400\r\n",
        "X_train_flat, y_train_flat = get_samples(n_samples, X_train, y_train)\r\n",
        "X_test_flat, y_test_flat = get_samples(n_test_samples, X_test, y_test)\r\n",
        "print(X_train_flat.shape,X_test_flat.shape)\r\n",
        "# Normalization\r\n",
        "X_train_flat = X_train_flat.reshape((n_samples, -1))/255\r\n",
        "X_test_flat = X_test_flat.reshape((n_test_samples, -1))/255"
      ],
      "outputs": [
        {
          "output_type": "error",
          "ename": "NameError",
          "evalue": "ignored",
          "traceback": [
            "\u001b[0;31m---------------------------------------------------------------------------\u001b[0m",
            "\u001b[0;31mNameError\u001b[0m                                 Traceback (most recent call last)",
            "\u001b[0;32m<ipython-input-1-964ca3efef26>\u001b[0m in \u001b[0;36m<module>\u001b[0;34m()\u001b[0m\n\u001b[1;32m      1\u001b[0m \u001b[0mn_samples\u001b[0m \u001b[0;34m=\u001b[0m \u001b[0;36m2000\u001b[0m\u001b[0;34m\u001b[0m\u001b[0;34m\u001b[0m\u001b[0m\n\u001b[1;32m      2\u001b[0m \u001b[0mn_test_samples\u001b[0m \u001b[0;34m=\u001b[0m \u001b[0;36m400\u001b[0m\u001b[0;34m\u001b[0m\u001b[0;34m\u001b[0m\u001b[0m\n\u001b[0;32m----> 3\u001b[0;31m \u001b[0mX_train_flat\u001b[0m\u001b[0;34m,\u001b[0m \u001b[0my_train_flat\u001b[0m \u001b[0;34m=\u001b[0m \u001b[0mget_samples\u001b[0m\u001b[0;34m(\u001b[0m\u001b[0mn_samples\u001b[0m\u001b[0;34m,\u001b[0m \u001b[0mX_train\u001b[0m\u001b[0;34m,\u001b[0m \u001b[0my_train\u001b[0m\u001b[0;34m)\u001b[0m\u001b[0;34m\u001b[0m\u001b[0;34m\u001b[0m\u001b[0m\n\u001b[0m\u001b[1;32m      4\u001b[0m \u001b[0mX_test_flat\u001b[0m\u001b[0;34m,\u001b[0m \u001b[0my_test_flat\u001b[0m \u001b[0;34m=\u001b[0m \u001b[0mget_samples\u001b[0m\u001b[0;34m(\u001b[0m\u001b[0mn_test_samples\u001b[0m\u001b[0;34m,\u001b[0m \u001b[0mX_test\u001b[0m\u001b[0;34m,\u001b[0m \u001b[0my_test\u001b[0m\u001b[0;34m)\u001b[0m\u001b[0;34m\u001b[0m\u001b[0;34m\u001b[0m\u001b[0m\n\u001b[1;32m      5\u001b[0m \u001b[0mprint\u001b[0m\u001b[0;34m(\u001b[0m\u001b[0mX_train_flat\u001b[0m\u001b[0;34m.\u001b[0m\u001b[0mshape\u001b[0m\u001b[0;34m,\u001b[0m\u001b[0mX_test_flat\u001b[0m\u001b[0;34m.\u001b[0m\u001b[0mshape\u001b[0m\u001b[0;34m)\u001b[0m\u001b[0;34m\u001b[0m\u001b[0;34m\u001b[0m\u001b[0m\n",
            "\u001b[0;31mNameError\u001b[0m: name 'get_samples' is not defined"
          ]
        }
      ],
      "metadata": {
        "id": "XF1XGXrvJlri",
        "colab": {
          "base_uri": "https://localhost:8080/",
          "height": 229
        },
        "outputId": "414ffbd3-8e4e-409a-ce4c-8b9663be7cfb"
      }
    },
    {
      "cell_type": "code",
      "execution_count": null,
      "source": [
        "print('Training data', X_train_flat.shape)\r\n",
        "print('Test data', X_test_flat.shape)"
      ],
      "outputs": [
        {
          "output_type": "stream",
          "name": "stdout",
          "text": [
            "Training data (2000, 784)\n",
            "Test data (400, 784)\n"
          ]
        }
      ],
      "metadata": {
        "id": "66rNQGgnK1MX",
        "colab": {
          "base_uri": "https://localhost:8080/"
        },
        "outputId": "c59119ac-a53d-458e-8016-dd07a8286996"
      }
    },
    {
      "cell_type": "code",
      "execution_count": null,
      "source": [
        "# Get all the data\r\n",
        "# Run it after you finish training with the 2000 samples\r\n",
        "X_train_flat = X_train.reshape((-1, 784))\r\n",
        "X_test_flat = X_test.reshape((-1, 784))\r\n",
        "y_train_flat = y_train\r\n",
        "y_test_flat = y_test\r\n",
        "\r\n",
        "print('Training data', X_train_flat.shape)\r\n",
        "print('Test data', X_test_flat.shape)\r\n",
        "print('Training label', y_train_flat.shape)\r\n",
        "print('Test label', y_test_flat.shape)"
      ],
      "outputs": [
        {
          "output_type": "stream",
          "name": "stdout",
          "text": [
            "Training data (60000, 784)\n",
            "Test data (10000, 784)\n",
            "Training label (60000,)\n",
            "Test label (10000,)\n"
          ]
        }
      ],
      "metadata": {
        "id": "59B4UG39o5N1",
        "colab": {
          "base_uri": "https://localhost:8080/"
        },
        "outputId": "6dfe9825-9bdd-4e82-a294-187ffac67518"
      }
    },
    {
      "cell_type": "markdown",
      "source": [
        "## Train models"
      ],
      "metadata": {
        "id": "bmxGMEGGLaJI"
      }
    },
    {
      "cell_type": "code",
      "execution_count": null,
      "source": [
        "from sklearn.svm import SVC\r\n",
        "from sklearn.metrics import confusion_matrix, accuracy_score\r\n",
        "from sklearn.model_selection import cross_val_score\r\n",
        "from sklearn.model_selection import GridSearchCV"
      ],
      "outputs": [],
      "metadata": {
        "id": "4tJcSPEbLRsh"
      }
    },
    {
      "cell_type": "markdown",
      "source": [
        "**Train a SVM model**: Set up the training process and train with the small samples of data first before you take the full training dataset to train."
      ],
      "metadata": {
        "id": "blM8JAmirzPb"
      }
    },
    {
      "cell_type": "code",
      "execution_count": null,
      "source": [
        "clf = SVC(kernel='linear')\r\n",
        "clf.fit(X_train_flat, y_train_flat)\r\n",
        "clf.score(X_test_flat, y_test_flat)"
      ],
      "outputs": [
        {
          "output_type": "execute_result",
          "data": {
            "text/plain": [
              "0.91"
            ]
          },
          "metadata": {
            "tags": []
          },
          "execution_count": 12
        }
      ],
      "metadata": {
        "id": "CIafedeOrzPe",
        "colab": {
          "base_uri": "https://localhost:8080/"
        },
        "outputId": "9e6c8422-26b9-482e-aae9-58e36243594c"
      }
    },
    {
      "cell_type": "code",
      "execution_count": null,
      "source": [
        "clf = SVC(kernel='rbf')\r\n",
        "clf.fit(X_train_flat, y_train_flat)\r\n",
        "clf.score(X_test_flat, y_test_flat)"
      ],
      "outputs": [
        {
          "output_type": "execute_result",
          "data": {
            "text/plain": [
              "0.94"
            ]
          },
          "metadata": {
            "tags": []
          },
          "execution_count": 13
        }
      ],
      "metadata": {
        "colab": {
          "base_uri": "https://localhost:8080/"
        },
        "id": "IvwD9j4QfVJJ",
        "outputId": "21fa42e8-7d86-4e9e-f33b-b59854fd1f68"
      }
    },
    {
      "cell_type": "markdown",
      "source": [
        "You can use GridSearch to find the best set of hyperparameters. Take a look at GridSearchCV from Sklearn here (look at the example at the end): https://scikit-learn.org/stable/modules/generated/sklearn.model_selection.GridSearchCV.html"
      ],
      "metadata": {
        "id": "C7EdM3ZY0gei"
      }
    },
    {
      "cell_type": "code",
      "execution_count": null,
      "source": [
        "SVC().get_params()"
      ],
      "outputs": [
        {
          "output_type": "execute_result",
          "data": {
            "text/plain": [
              "{'C': 1.0,\n",
              " 'break_ties': False,\n",
              " 'cache_size': 200,\n",
              " 'class_weight': None,\n",
              " 'coef0': 0.0,\n",
              " 'decision_function_shape': 'ovr',\n",
              " 'degree': 3,\n",
              " 'gamma': 'scale',\n",
              " 'kernel': 'rbf',\n",
              " 'max_iter': -1,\n",
              " 'probability': False,\n",
              " 'random_state': None,\n",
              " 'shrinking': True,\n",
              " 'tol': 0.001,\n",
              " 'verbose': False}"
            ]
          },
          "metadata": {
            "tags": []
          },
          "execution_count": 21
        }
      ],
      "metadata": {
        "colab": {
          "base_uri": "https://localhost:8080/"
        },
        "id": "4oz4Kp3eg8pB",
        "outputId": "68662a23-2350-481b-fe65-da8776cd22fa"
      }
    },
    {
      "cell_type": "code",
      "execution_count": null,
      "source": [
        "Cs = [1, 10, 100]\r\n",
        "kernels = ['linear', 'rbf']\r\n",
        "gammas = ['scale','auto',0.1, 0.01]\r\n",
        "model = SVC()\r\n",
        "gridsearch_models = GridSearchCV(model, param_grid=dict(kernel=kernels, C=Cs, gamma=gammas), cv=5, n_jobs=-1)\r\n",
        "gridsearch_models.fit(X_train_flat, y_train_flat)"
      ],
      "outputs": [
        {
          "output_type": "execute_result",
          "data": {
            "text/plain": [
              "GridSearchCV(cv=5, error_score=nan,\n",
              "             estimator=SVC(C=1.0, break_ties=False, cache_size=200,\n",
              "                           class_weight=None, coef0=0.0,\n",
              "                           decision_function_shape='ovr', degree=3,\n",
              "                           gamma='scale', kernel='rbf', max_iter=-1,\n",
              "                           probability=False, random_state=None, shrinking=True,\n",
              "                           tol=0.001, verbose=False),\n",
              "             iid='deprecated', n_jobs=None,\n",
              "             param_grid={'C': [1, 10, 100],\n",
              "                         'gamma': ['scale', 'auto', 0.1, 0.01],\n",
              "                         'kernel': ['linear', 'rbf']},\n",
              "             pre_dispatch='2*n_jobs', refit=True, return_train_score=False,\n",
              "             scoring=None, verbose=0)"
            ]
          },
          "metadata": {
            "tags": []
          },
          "execution_count": 33
        }
      ],
      "metadata": {
        "id": "ENUgYnAIv7BA",
        "colab": {
          "base_uri": "https://localhost:8080/"
        },
        "outputId": "37b19e67-b1e8-4aad-ab45-a9a34f1cefc3"
      }
    },
    {
      "cell_type": "code",
      "execution_count": null,
      "source": [
        "# print out the results\r\n",
        "pd.DataFrame(gridsearch_models.cv_results_)"
      ],
      "outputs": [],
      "metadata": {
        "id": "xakJOw-uxZZZ"
      }
    },
    {
      "cell_type": "code",
      "execution_count": null,
      "source": [
        "print('Best params', gridsearch_models.best_params_)\r\n",
        "print('Best score', gridsearch_models.best_score_)"
      ],
      "outputs": [
        {
          "output_type": "stream",
          "name": "stdout",
          "text": [
            "Best params {'C': 10, 'gamma': 'scale', 'kernel': 'rbf'}\n",
            "Best score 0.9369999999999999\n"
          ]
        }
      ],
      "metadata": {
        "colab": {
          "base_uri": "https://localhost:8080/"
        },
        "id": "91wbV0K_gTXv",
        "outputId": "4f7ddbd0-e8d5-492d-f9e6-4e418658642e"
      }
    },
    {
      "cell_type": "code",
      "execution_count": null,
      "source": [
        "best_model = gridsearch_models.best_estimator_\r\n",
        "best_model"
      ],
      "outputs": [
        {
          "output_type": "execute_result",
          "data": {
            "text/plain": [
              "SVC(C=10, break_ties=False, cache_size=200, class_weight=None, coef0=0.0,\n",
              "    decision_function_shape='ovr', degree=3, gamma='scale', kernel='rbf',\n",
              "    max_iter=-1, probability=False, random_state=None, shrinking=True,\n",
              "    tol=0.001, verbose=False)"
            ]
          },
          "metadata": {
            "tags": []
          },
          "execution_count": 35
        }
      ],
      "metadata": {
        "id": "yYoBam-Mx0xF",
        "colab": {
          "base_uri": "https://localhost:8080/"
        },
        "outputId": "cf60eca1-defa-4587-e1b7-0a365ad72f3c"
      }
    },
    {
      "cell_type": "code",
      "execution_count": null,
      "source": [
        "# option 2: RandomizedSearchCV\r\n",
        "from sklearn.model_selection import RandomizedSearchCV\r\n",
        "Cs = [1, 10, 100]\r\n",
        "kernels = ['linear', 'rbf']\r\n",
        "gammas = ['scale','auto',0.1, 0.01]\r\n",
        "model = SVC()\r\n",
        "gridsearch_models = RandomizedSearchCV(model, param_grid=dict(kernel=kernels, C=Cs, gamma=gammas), cv=5, n_jobs=-1, n_iter=20) # n_iter is number of random samples"
      ],
      "outputs": [],
      "metadata": {
        "id": "IkQmMY8EzCLz"
      }
    },
    {
      "cell_type": "markdown",
      "source": [
        "## Evaluation"
      ],
      "metadata": {
        "id": "rupa4m2jX5rm"
      }
    },
    {
      "cell_type": "markdown",
      "source": [
        "**Get the predictions on test data**"
      ],
      "metadata": {
        "id": "UBh0Et0erzPs"
      }
    },
    {
      "cell_type": "code",
      "execution_count": null,
      "source": [
        "best_model.fit(X_train_flat, y_train_flat)\r\n",
        "predictions = best_model.predict(X_test_flat)\r\n",
        "print('Accuracy Score:', accuracy_score(y_test_flat, predictions))"
      ],
      "outputs": [
        {
          "output_type": "stream",
          "name": "stdout",
          "text": [
            "Accuracy Score: 0.9837\n"
          ]
        }
      ],
      "metadata": {
        "id": "1rwL5VCIX9qi",
        "colab": {
          "base_uri": "https://localhost:8080/"
        },
        "outputId": "dfc55a91-a9c8-4504-e5fe-2f2a50151bd7"
      }
    },
    {
      "cell_type": "markdown",
      "source": [
        "**Plot the confusion matrix in form of a heatmap**"
      ],
      "metadata": {
        "id": "su0pvdthrzP9"
      }
    },
    {
      "cell_type": "code",
      "execution_count": null,
      "source": [
        "data = confusion_matrix(y_test_flat, predictions)\r\n",
        "df_cm = pd.DataFrame(data, columns=np.unique([0, 1, 2, 3, 4, 5, 6, 7, 8, 9]), \r\n",
        "                     index = np.unique([0, 1, 2, 3, 4, 5, 6, 7, 8, 9]))\r\n",
        "\r\n",
        "df_cm.index.name = 'Actual'\r\n",
        "df_cm.columns.name = 'Predicted'\r\n",
        "plt.figure(figsize = (10,10))\r\n",
        "sns.set(font_scale=1)\r\n",
        "sns.heatmap(df_cm, cmap=\"YlGnBu\", annot=True,annot_kws={\"size\": 10})\r\n",
        "\r\n",
        "# plt.figure(figsize=(10,10))\r\n",
        "# use sns.heatmap and sklearn's confusion_matrix"
      ],
      "outputs": [
        {
          "output_type": "execute_result",
          "data": {
            "text/plain": [
              "<matplotlib.axes._subplots.AxesSubplot at 0x7f01f749ac10>"
            ]
          },
          "metadata": {
            "tags": []
          },
          "execution_count": 42
        },
        {
          "output_type": "display_data",
          "data": {
            "text/plain": [
              "<Figure size 720x720 with 2 Axes>"
            ],
            "image/png": "[encoded data removed]"
          },
          "metadata": {
            "tags": []
          }
        }
      ],
      "metadata": {
        "id": "2RyKjfmHX7SN",
        "colab": {
          "base_uri": "https://localhost:8080/",
          "height": 628
        },
        "outputId": "72444b5d-99a8-4198-e430-9be293ce8fa2"
      }
    },
    {
      "cell_type": "code",
      "execution_count": null,
      "source": [
        "from sklearn.metrics import classification_report\r\n",
        "print(classification_report(y_test_flat, predictions))"
      ],
      "outputs": [
        {
          "output_type": "stream",
          "name": "stdout",
          "text": [
            "              precision    recall  f1-score   support\n",
            "\n",
            "           0       0.98      0.99      0.99       980\n",
            "           1       0.99      0.99      0.99      1135\n",
            "           2       0.98      0.98      0.98      1032\n",
            "           3       0.98      0.99      0.98      1010\n",
            "           4       0.98      0.98      0.98       982\n",
            "           5       0.99      0.98      0.98       892\n",
            "           6       0.99      0.99      0.99       958\n",
            "           7       0.98      0.98      0.98      1028\n",
            "           8       0.98      0.98      0.98       974\n",
            "           9       0.98      0.97      0.97      1009\n",
            "\n",
            "    accuracy                           0.98     10000\n",
            "   macro avg       0.98      0.98      0.98     10000\n",
            "weighted avg       0.98      0.98      0.98     10000\n",
            "\n"
          ]
        }
      ],
      "metadata": {
        "colab": {
          "base_uri": "https://localhost:8080/"
        },
        "id": "p_oKtYodr8Oh",
        "outputId": "64d526f0-97a3-47bc-bbcb-548e8b6ced8f"
      }
    },
    {
      "cell_type": "markdown",
      "source": [
        "**Plot the samples that the model predicts incorrectly**"
      ],
      "metadata": {
        "id": "mpMUVV4VrzQP"
      }
    },
    {
      "cell_type": "code",
      "execution_count": null,
      "source": [
        "result = pd.DataFrame(y_test_flat, columns=['Labels'])\r\n",
        "result1 = pd.DataFrame(predictions, columns=['Predictions'])\r\n",
        "total = pd.concat((result, result1), axis=1)\r\n",
        "index = total[total['Labels'] != total['Predictions']].sample(20).index\r\n",
        "img = X_test[index, :, :]\r\n",
        "predict=result1.loc[index].values   "
      ],
      "outputs": [],
      "metadata": {
        "id": "_LaaAqKgrX12"
      }
    },
    {
      "cell_type": "code",
      "execution_count": null,
      "source": [
        "plot_images(img, predict)"
      ],
      "outputs": [
        {
          "output_type": "display_data",
          "data": {
            "text/plain": [
              "<Figure size 1440x720 with 20 Axes>"
            ],
            "image/png": "[encoded data removed]"
          },
          "metadata": {
            "tags": []
          }
        }
      ],
      "metadata": {
        "colab": {
          "base_uri": "https://localhost:8080/",
          "height": 258
        },
        "id": "yiv6NqVCu6Js",
        "outputId": "32168a56-277c-44d0-f636-26f72aeb23de"
      }
    },
    {
      "cell_type": "markdown",
      "source": [
        "## Save model"
      ],
      "metadata": {
        "id": "Y8O1Hh7LYNjP"
      }
    },
    {
      "cell_type": "code",
      "execution_count": null,
      "source": [
        "import pickle\r\n",
        "\r\n",
        "pickle.dump(clf, open('svm_mnist.pkl', 'wb'))"
      ],
      "outputs": [],
      "metadata": {
        "id": "C7cNiWsLYPTE"
      }
    },
    {
      "cell_type": "markdown",
      "source": [
        "**Re-load model for testing**"
      ],
      "metadata": {
        "id": "5B-g57XIYuH0"
      }
    },
    {
      "cell_type": "code",
      "execution_count": null,
      "source": [
        "with open('svm_mnist.pkl', 'rb') as model:\r\n",
        "    reload_model = pickle.load(model)\r\n",
        "\r\n",
        "predictions = reload_model.predict(X_test_flat)\r\n",
        "print(f'Accuracy score: {accuracy_score(y_test_flat, predictions)}')"
      ],
      "outputs": [
        {
          "output_type": "stream",
          "name": "stdout",
          "text": [
            "Accuracy score: 0.78\n"
          ]
        }
      ],
      "metadata": {
        "id": "WDsYcxfzYd8F",
        "colab": {
          "base_uri": "https://localhost:8080/",
          "height": 33
        },
        "outputId": "1eba8d03-2181-4546-d9a5-4b36291a7856"
      }
    }
  ]
}